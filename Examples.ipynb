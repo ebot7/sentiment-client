{
 "cells": [
  {
   "cell_type": "markdown",
   "metadata": {},
   "source": [
    "# e-bot7 Sentiment Analysis"
   ]
  },
  {
   "cell_type": "markdown",
   "metadata": {},
   "source": [
    "The e-bot7 Sentiment Analysis Service is provided as a simple RESTful interface.\n",
    "\n",
    "The only dependencies needed to call it are an HTTP client and json for encoding/decoding the payload."
   ]
  },
  {
   "cell_type": "code",
   "execution_count": 10,
   "metadata": {
    "collapsed": true
   },
   "outputs": [],
   "source": [
    "from http.client import HTTPSConnection\n",
    "import json"
   ]
  },
  {
   "cell_type": "markdown",
   "metadata": {},
   "source": [
    "## Example: Direct call to API"
   ]
  },
  {
   "cell_type": "markdown",
   "metadata": {},
   "source": [
    "In this first example we demonstrate a single call to the interface."
   ]
  },
  {
   "cell_type": "code",
   "execution_count": 40,
   "metadata": {},
   "outputs": [
    {
     "name": "stdout",
     "output_type": "stream",
     "text": [
      "{'documents': [{'id': '1', 'score': 0.920766}, {'id': '2', 'score': 0.287722}]}\n"
     ]
    }
   ],
   "source": [
    "conn = HTTPSConnection('sentiment.e-bot7.de')\n",
    "\n",
    "headers = { 'Content-Type': 'application/json' }\n",
    "\n",
    "data = {\n",
    "    \"documents\": [\n",
    "        {\n",
    "            \"id\": 1,\n",
    "             \"text\": \"Ich finde das super.\"\n",
    "        },\n",
    "        {\n",
    "            \"id\": 2,\n",
    "            \"text\": \"Es ist sehr schön, aber hat mir überhaupt nicht geholfen.\"\n",
    "        }\n",
    "    ]\n",
    "}\n",
    "\n",
    "try:\n",
    "    conn.request(\"POST\", \"/sentiment\", json.dumps(data), headers)\n",
    "    result = json.loads(conn.getresponse().read().decode('ascii'))\n",
    "    print(result)\n",
    "    conn.close()\n",
    "except Exception as e:\n",
    "    print(e)"
   ]
  },
  {
   "cell_type": "markdown",
   "metadata": {},
   "source": [
    "## Example: Convenience function for calling the API"
   ]
  },
  {
   "cell_type": "markdown",
   "metadata": {},
   "source": [
    "As another example we define a simple function that can be used to obtain the sentiment prediction for a list of texts."
   ]
  },
  {
   "cell_type": "code",
   "execution_count": 18,
   "metadata": {
    "collapsed": true
   },
   "outputs": [],
   "source": [
    "def get_sentiment(texts):\n",
    "    conn = HTTPSConnection('sentiment.e-bot7.de')\n",
    "\n",
    "    headers = { 'Content-Type': 'application/json' }\n",
    "\n",
    "    docs = [dict(id=i,text=text) for i,text in enumerate(texts)]\n",
    "    data = { \"documents\": docs }\n",
    "\n",
    "    conn.request(\"POST\", \"/sentiment\", json.dumps(data), headers)\n",
    "    result = json.loads(conn.getresponse().read().decode('ascii'))\n",
    "    conn.close()\n",
    "    \n",
    "    for doc in result[\"documents\"]:\n",
    "        i = int(doc[\"id\"])\n",
    "        docs[i][\"score\"] = doc[\"score\"]\n",
    "    \n",
    "    return docs"
   ]
  },
  {
   "cell_type": "markdown",
   "metadata": {},
   "source": [
    "Here is that function in action."
   ]
  },
  {
   "cell_type": "code",
   "execution_count": 57,
   "metadata": {},
   "outputs": [
    {
     "name": "stdout",
     "output_type": "stream",
     "text": [
      "Text: Sehr hilfreich und macht sogar Spaß!\n",
      "Score: 0.913\n",
      "\n",
      "Text: Der Prozess ist langsam und kostet einen viele Nerven.\n",
      "Score: 0.266\n",
      "\n"
     ]
    }
   ],
   "source": [
    "docs = [\n",
    "    \"Sehr hilfreich und macht sogar Spaß!\",\n",
    "    \"Der Prozess ist langsam und kostet einen viele Nerven.\"\n",
    "]\n",
    "\n",
    "for doc in get_sentiment(docs):\n",
    "    print('Text: {}'.format(doc[\"text\"]))\n",
    "    print('Score: {:.3f}'.format(doc[\"score\"]))\n",
    "    print()"
   ]
  }
 ],
 "metadata": {
  "kernelspec": {
   "display_name": "Python 3",
   "language": "python",
   "name": "python3"
  },
  "language_info": {
   "codemirror_mode": {
    "name": "ipython",
    "version": 3
   },
   "file_extension": ".py",
   "mimetype": "text/x-python",
   "name": "python",
   "nbconvert_exporter": "python",
   "pygments_lexer": "ipython3",
   "version": "3.5.2"
  }
 },
 "nbformat": 4,
 "nbformat_minor": 2
}
